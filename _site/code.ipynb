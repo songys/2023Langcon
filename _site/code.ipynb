{
  "nbformat": 4,
  "nbformat_minor": 0,
  "metadata": {
    "colab": {
      "name": "code.ipynb",
      "version": "0.3.2",
      "provenance": [],
      "include_colab_link": true
    },
    "kernelspec": {
      "display_name": "Python 3",
      "language": "python",
      "name": "python3"
    }
  },
  "cells": [
    {
      "cell_type": "markdown",
      "metadata": {
        "id": "view-in-github",
        "colab_type": "text"
      },
      "source": [
        "<a href=\"https://colab.research.google.com/github/songys/2019LangCon/blob/master/code.ipynb\" target=\"_parent\"><img src=\"https://colab.research.google.com/assets/colab-badge.svg\" alt=\"Open In Colab\"/></a>"
      ]
    },
    {
      "metadata": {
        "id": "M50aGP8I8Gjo",
        "colab_type": "code",
        "colab": {}
      },
      "cell_type": "code",
      "source": [
        "import pandas as pd\n",
        "import konlpy\n",
        "from konlpy.tag import Kkma"
      ],
      "execution_count": 0,
      "outputs": []
    },
    {
      "metadata": {
        "id": "cHafcKUO8Gjr",
        "colab_type": "text"
      },
      "cell_type": "markdown",
      "source": [
        "# 딕셔너리 만들기"
      ]
    },
    {
      "metadata": {
        "id": "ucJSNkPo8Gjs",
        "colab_type": "text"
      },
      "cell_type": "markdown",
      "source": [
        "{'title':'content', 'title':'content'...}"
      ]
    },
    {
      "metadata": {
        "id": "8VHzgXBp8Gjt",
        "colab_type": "code",
        "colab": {}
      },
      "cell_type": "code",
      "source": [
        "def make_dict(path):\n",
        "    \"input .csv path. Return (title, content) dictionary.\"\n",
        "    df = pd.read_csv(path) # pandas를 이용해 path 안의 .csv 파일을 읽는다.\n",
        "    titles = df['title'].values.tolist() # dataframe을 이용해 csv 파일의 title만 리스트로 변환한다.\n",
        "    \n",
        "    dict = {}\n",
        "\n",
        "    for i in range(len(titles)):\n",
        "        dict[df.loc[i]['title']] = df.loc[i]['content'] # dataframe의 인덱스를 이용해서 title:content dict를 만든다.\n",
        "    return dict"
      ],
      "execution_count": 0,
      "outputs": []
    },
    {
      "metadata": {
        "id": "qeDi2sAm8Gjw",
        "colab_type": "code",
        "colab": {}
      },
      "cell_type": "code",
      "source": [
        "care_dict = make_dict('care.csv')"
      ],
      "execution_count": 0,
      "outputs": []
    },
    {
      "metadata": {
        "id": "lszIBmYu8Gjy",
        "colab_type": "text"
      },
      "cell_type": "markdown",
      "source": [
        "# 특정 키워드 게시물의 긍부정 점수 책정"
      ]
    },
    {
      "metadata": {
        "id": "zvzzCVGa8Gjz",
        "colab_type": "code",
        "colab": {}
      },
      "cell_type": "code",
      "source": [
        "positive = ['증진', '허가', '합법', '추가', '확대', '지급'] # 추가 필요"
      ],
      "execution_count": 0,
      "outputs": []
    },
    {
      "metadata": {
        "id": "PKHI_7v58Gj1",
        "colab_type": "code",
        "colab": {}
      },
      "cell_type": "code",
      "source": [
        "negative = ['금지', '규제', '철폐', '강화']"
      ],
      "execution_count": 0,
      "outputs": []
    },
    {
      "metadata": {
        "id": "06IR6eoE8Gj4",
        "colab_type": "code",
        "colab": {}
      },
      "cell_type": "code",
      "source": [
        "tag_kkma = Kkma()"
      ],
      "execution_count": 0,
      "outputs": []
    },
    {
      "metadata": {
        "id": "PxokckQw8Gj6",
        "colab_type": "code",
        "colab": {}
      },
      "cell_type": "code",
      "source": [
        "def direction(dict, str):\n",
        "    \"Input (dict, str).\"\n",
        "    direct = {} # 비어있는 dict를 만든다.\n",
        "    direct[str] = 0 # 입력받은 str로 dict 생성\n",
        "    for title in dict: # dict의 title을 하나씩 대입\n",
        "        if str in title: # 입력받은 str이 title 안에 있을 경우\n",
        "            content_noun = tag_kkma.nouns(dict[title]) # title의 상대 content를 명사로 쪼개 content_noun에 리스트로 선언\n",
        "            for s in range(len(content_noun)-1):\n",
        "                bigram = []\n",
        "                bigram = [content_noun[s], content_noun[s+1]]\n",
        "                test = {}\n",
        "                test['score'] = 0\n",
        "                for wd in bigram:\n",
        "                    if wd in positive:\n",
        "                        test['score'] += 1\n",
        "                        print('P')\n",
        "                    elif wd in negative:\n",
        "                        test['score'] -= 2\n",
        "                        print('n')\n",
        "                print(bigram)\n",
        "                if test['score'] == 1: # 1p\n",
        "                    direct[str] += 0.5\n",
        "                elif test['score'] == -2: # 1n\n",
        "                    direct[str] -= 0.5\n",
        "                elif test['score'] == 2: # 2p\n",
        "                    direct[str] += 0\n",
        "                elif test['score'] == -4: # 2n\n",
        "                    direct[str] += 2\n",
        "                elif test['score'] == -1: # 1n1p\n",
        "                    direct[str] -= 1\n",
        "                else: #nothing\n",
        "                    pass\n",
        "    return direct"
      ],
      "execution_count": 0,
      "outputs": []
    },
    {
      "metadata": {
        "id": "_taPNCEP8Gj8",
        "colab_type": "code",
        "colab": {}
      },
      "cell_type": "code",
      "source": [
        "test_dict = {'테스트를 위한 딕셔너리':'첫번째 테스트입니다. 규제를 확대한다는 문장은 -1점이 돼죠', '재미로 한번 더 돌려볼까요?' : 'A학점은 15%밖에 못 받아간다는 규제를 철폐하라! 라고 적었다면 1점이 되겠죠.'}"
      ],
      "execution_count": 0,
      "outputs": []
    },
    {
      "metadata": {
        "id": "io06zyPZ8Gj_",
        "colab_type": "code",
        "colab": {},
        "outputId": "732838ca-341c-4778-93c4-ef427ab4d52e"
      },
      "cell_type": "code",
      "source": [
        "print(test_dict)"
      ],
      "execution_count": 0,
      "outputs": [
        {
          "output_type": "stream",
          "text": [
            "{'테스트를 위한 딕셔너리': '첫번째 테스트입니다. 규제를 확대한다는 문장은 -1점이 돼죠', '재미로 한번 더 돌려볼까요?': 'A학점은 15%밖에 못 받아간다는 규제를 철폐하라! 라고 적었다면 1점이 되겠죠.'}\n"
          ],
          "name": "stdout"
        }
      ]
    },
    {
      "metadata": {
        "id": "n-T0OXyX8GkE",
        "colab_type": "code",
        "colab": {},
        "outputId": "aec06dfe-8a37-4373-d976-f36d7e7354a6"
      },
      "cell_type": "code",
      "source": [
        "direction(test_dict,'테스트')"
      ],
      "execution_count": 0,
      "outputs": [
        {
          "output_type": "stream",
          "text": [
            "['번째', '테스트']\n",
            "n\n",
            "['테스트', '규제']\n",
            "n\n",
            "P\n",
            "['규제', '확대']\n",
            "P\n",
            "['확대', '문장']\n",
            "['문장', '-1']\n",
            "['-1', '-1점']\n",
            "['-1점', '점']\n"
          ],
          "name": "stdout"
        },
        {
          "output_type": "execute_result",
          "data": {
            "text/plain": [
              "{'테스트': -1.0}"
            ]
          },
          "metadata": {
            "tags": []
          },
          "execution_count": 12
        }
      ]
    },
    {
      "metadata": {
        "id": "rD1kmB7w8GkH",
        "colab_type": "code",
        "colab": {},
        "outputId": "2c0726c3-1d6a-48d8-e4ab-cb41262e70c6"
      },
      "cell_type": "code",
      "source": [
        "direction(test_dict,'재미')"
      ],
      "execution_count": 0,
      "outputs": [
        {
          "output_type": "stream",
          "text": [
            "['학점', '15']\n",
            "n\n",
            "['15', '규제']\n",
            "n\n",
            "n\n",
            "['규제', '철폐']\n",
            "n\n",
            "['철폐', '1']\n",
            "['1', '1점']\n",
            "['1점', '점']\n"
          ],
          "name": "stdout"
        },
        {
          "output_type": "execute_result",
          "data": {
            "text/plain": [
              "{'재미': 1.0}"
            ]
          },
          "metadata": {
            "tags": []
          },
          "execution_count": 13
        }
      ]
    },
    {
      "metadata": {
        "id": "OBVWvTDe8GkN",
        "colab_type": "code",
        "colab": {}
      },
      "cell_type": "code",
      "source": [
        ""
      ],
      "execution_count": 0,
      "outputs": []
    }
  ]
}